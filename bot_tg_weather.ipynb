{
  "nbformat": 4,
  "nbformat_minor": 0,
  "metadata": {
    "colab": {
      "name": "git_bot_tg_weather.ipynb",
      "provenance": [],
      "authorship_tag": "ABX9TyN9b5y6dh3XUxn6amql1868",
      "include_colab_link": true
    },
    "kernelspec": {
      "name": "python3",
      "display_name": "Python 3"
    }
  },
  "cells": [
    {
      "cell_type": "markdown",
      "metadata": {
        "id": "view-in-github",
        "colab_type": "text"
      },
      "source": [
        "<a href=\"https://colab.research.google.com/github/positivedespair/should_i_wear/blob/master/bot_tg_weather.ipynb\" target=\"_parent\"><img src=\"https://colab.research.google.com/assets/colab-badge.svg\" alt=\"Open In Colab\"/></a>"
      ]
    },
    {
      "cell_type": "code",
      "metadata": {
        "id": "1al5YPxgiLix",
        "colab_type": "code",
        "outputId": "7a27c280-c289-4e73-c0f6-eb1cc8ed56b0",
        "colab": {
          "base_uri": "https://localhost:8080/",
          "height": 154
        }
      },
      "source": [
        "!pip install pytelegrambotapi\n",
        "!pip install urllib3"
      ],
      "execution_count": 0,
      "outputs": [
        {
          "output_type": "stream",
          "text": [
            "Requirement already satisfied: pytelegrambotapi in /usr/local/lib/python3.6/dist-packages (3.6.7)\n",
            "Requirement already satisfied: six in /usr/local/lib/python3.6/dist-packages (from pytelegrambotapi) (1.12.0)\n",
            "Requirement already satisfied: requests in /usr/local/lib/python3.6/dist-packages (from pytelegrambotapi) (2.21.0)\n",
            "Requirement already satisfied: chardet<3.1.0,>=3.0.2 in /usr/local/lib/python3.6/dist-packages (from requests->pytelegrambotapi) (3.0.4)\n",
            "Requirement already satisfied: certifi>=2017.4.17 in /usr/local/lib/python3.6/dist-packages (from requests->pytelegrambotapi) (2020.4.5.1)\n",
            "Requirement already satisfied: idna<2.9,>=2.5 in /usr/local/lib/python3.6/dist-packages (from requests->pytelegrambotapi) (2.8)\n",
            "Requirement already satisfied: urllib3<1.25,>=1.21.1 in /usr/local/lib/python3.6/dist-packages (from requests->pytelegrambotapi) (1.24.3)\n"
          ],
          "name": "stdout"
        }
      ]
    },
    {
      "cell_type": "code",
      "metadata": {
        "id": "38ogx6d1l3yg",
        "colab_type": "code",
        "colab": {}
      },
      "source": [
        "import telebot\n",
        "from telebot import types\n",
        "import requests\n",
        "from bs4 import BeautifulSoup\n",
        "import re\n",
        "import random\n",
        "\n",
        "TG_KEY = 'insert your key here'\n",
        "USER_AGENT = 'Mozilla/5.0 (Windows NT 6.1; Win64; x64) AppleWebKit/537.36 (KHTML, like Gecko) Chrome/66.0.3359.181 Safari/537.36'\n",
        "headers = {'User-Agent': USER_AGENT }\n",
        "database = {}\n"
      ],
      "execution_count": 0,
      "outputs": []
    },
    {
      "cell_type": "code",
      "metadata": {
        "id": "-eVchQ22dQPy",
        "colab_type": "code",
        "colab": {}
      },
      "source": [
        "def get_weather(cond_en=False):\n",
        "    try:\n",
        "        data_ru = requests.get(\"http://api.openweathermap.org/data/2.5/weather?q=Moscow,ru&appid=9c82f8d680922dfbfeeb2602c42d70bc&lang=ru&units=metric\")\n",
        "        data_ru = data_ru.json()\n",
        "\n",
        "        temperature = data_ru['main']['temp']\n",
        "        feels = data_ru['main']['feels_like']\n",
        "        condition_ru = data_ru['weather'][0]['description']    \n",
        "        if cond_en:\n",
        "            data_en = requests.get(\"http://api.openweathermap.org/data/2.5/weather?q=Moscow,ru&appid=9c82f8d680922dfbfeeb2602c42d70bc&lang=en&units=metric\")\n",
        "            data_en = data_en.json()\n",
        "            condition_en = data_en['weather'][0]['description']\n",
        "            return temperature, feels, condition_ru, condition_en\n",
        "        return temperature, feels, condition_ru\n",
        "    except: \n",
        "        raise(ValueError)"
      ],
      "execution_count": 0,
      "outputs": []
    },
    {
      "cell_type": "code",
      "metadata": {
        "id": "_SS2TI1KjWw_",
        "colab_type": "code",
        "colab": {}
      },
      "source": [
        "def look(feels, condition_en, gender):\n",
        "    search = 'street style look ' + gender\n",
        "    if float(feels) < -10:\n",
        "        search += 'cool winter'\n",
        "    elif float(feels) < 0 or 'snow' in condition_en:\n",
        "        search += 'coat'\n",
        "    elif 'drizzle' or 'rain' in condition_en:\n",
        "        search += 'rain'\n",
        "    elif float(feels) < 10:\n",
        "        search += 'cool spring'\n",
        "    elif float(feels) < 16:\n",
        "        search += 'trench'\n",
        "    elif float(feels) < 20:\n",
        "        search += 't shirt'\n",
        "    elif float(feels) < 30:\n",
        "        search += 'summer'\n",
        "    else:\n",
        "        search += 'hot summer'\n",
        "    query = search.replace(' ', '+')\n",
        "    url = 'https://www.google.com/search?q='+ query + '&source=lnms&tbm=isch&tbs=sbd:0'\n",
        "    resp = requests.get(url, headers = headers)\n",
        "    if resp.status_code == 200:\n",
        "        soup = BeautifulSoup(resp.content, \"html.parser\")\n",
        "        res = [n for n in re.findall('\"([a-zA-Z0-9_./:-]+.(?:jpg|jpeg))\",', str(soup))]\n",
        "        res = res[:10]\n",
        "        i = random.randint(0, 9)\n",
        "        return res[i]\n",
        "    else:\n",
        "        raise(ValueError)\n"
      ],
      "execution_count": 0,
      "outputs": []
    },
    {
      "cell_type": "code",
      "metadata": {
        "id": "SY7Zol2gCFG_",
        "colab_type": "code",
        "colab": {}
      },
      "source": [
        "bot = telebot.TeleBot(TG_KEY)\n",
        "\n",
        "keyboard_gender = telebot.types.ReplyKeyboardMarkup()\n",
        "keyboard_gender.row('Мужской', 'Женский')\n",
        "keyboard_act = telebot.types.ReplyKeyboardMarkup()\n",
        "keyboard_act.row('Покажи погоду', 'Что стоит надеть?')\n",
        "\n",
        "\n",
        "@bot.message_handler(commands=['start'])\n",
        "def send_welcome(message):\n",
        "    if 'ids' not in database:\n",
        "        chat_id = message.chat.id\n",
        "        database['ids'] = message.from_user.id\n",
        "        m = bot.reply_to(message, text='Укажи свой пол', reply_markup=keyboard_gender)\n",
        "        bot.register_next_step_handler(m, gender)\n",
        "    else:\n",
        "        m = bot.reply_to(message, text='Чем я могу помочь?', reply_markup=keyboard_act)\n",
        "        bot.register_next_step_handler(m, action)\n",
        "\n",
        "@bot.message_handler(func=lambda message: True)\n",
        "def before_start(message):\n",
        "    try:\n",
        "        bot.send_message(message.from_user.id, 'Привет!\\nЯ могу подсказать, какая сейчас погода в Москве и посоветовать, что надеть, чтобы комфортно чуствовать себя на улице.\\nДля начала работы нажми /start')\n",
        "    except:\n",
        "        bot.reply_to(message, 'Что-то пошло не так, попробуй еще раз')\n",
        "\n",
        "\n",
        "def gender(message):\n",
        "    try:\n",
        "        if message.text == 'Мужской' or message.text == 'Женский':\n",
        "            if message.text == 'Мужской':\n",
        "                database['gender'] = 'man'\n",
        "            elif message.text == 'Женский':\n",
        "                database['gender'] = 'women'\n",
        "            m = bot.reply_to(message, text='Чем я могу помочь?', reply_markup=keyboard_act)\n",
        "            bot.register_next_step_handler(m, action)\n",
        "        else:\n",
        "            msg1 = bot.send_message(message.chat.id, 'Неизвестная команда')\n",
        "            msg2 = bot.reply_to(msg1, \"Укажи свой пол\", reply_markup=keyboard_gender)\n",
        "            bot.register_next_step_handler(msg2, gender)\n",
        "        \n",
        "    except Exception as e:\n",
        "        bot.send_message(message.chat.id, \"Что-то пошло не так...\")\n",
        "\n",
        "def action(message):\n",
        "    if message.text == 'Что стоит надеть?':\n",
        "        bot.send_message(message.from_user.id, 'Секундочку, ищу для тебя самый модный look!')\n",
        "        _, feel, _, cond_en = get_weather(True)\n",
        "        try:\n",
        "            link = look(feel, cond_en, database['gender'])\n",
        "            msg1 = bot.send_photo(message.from_user.id, link)\n",
        "            msg2 = bot.reply_to(msg1, text='Что-нибудь еще?', reply_markup=keyboard_act)\n",
        "            bot.register_next_step_handler(msg2, action)\n",
        "        except:\n",
        "            bot.send_message(message.chat.id, \"Не удалось подобрать look\")\n",
        "    elif message.text == 'Покажи погоду':\n",
        "        try:\n",
        "            temp, feel, cond = get_weather()\n",
        "            msg1 = bot.send_message(message.from_user.id, 'Температура на улице: ' + str(temp) + '\\nОщущается как: ' + str(feel) + '\\nОписание: ' + cond)\n",
        "            msg2 = bot.reply_to(msg1, text='Что-нибудь еще?', reply_markup=keyboard_act)\n",
        "            bot.register_next_step_handler(msg2, action)\n",
        "        except:\n",
        "            bot.send_message(message.chat.id, \"Что-то пошло не так...\")\n",
        "    else:\n",
        "        if message.text == '/start':\n",
        "            msg1 = bot.reply_to(message, text='Чем я могу помочь?', reply_markup=keyboard_act)\n",
        "            bot.register_next_step_handler(msg1, action)\n",
        "        else:\n",
        "            msg1 = bot.send_message(message.from_user.id, 'Я не знаю такой команды :(')\n",
        "            msg2 = bot.reply_to(msg1, text='Чем я могу помочь?', reply_markup=keyboard_act)\n",
        "            bot.register_next_step_handler(msg2, action)\n",
        "\n",
        "bot.polling()"
      ],
      "execution_count": 0,
      "outputs": []
    }
  ]
}